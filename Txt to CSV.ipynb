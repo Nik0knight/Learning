{
 "cells": [
  {
   "cell_type": "code",
   "execution_count": 1,
   "metadata": {},
   "outputs": [],
   "source": [
    "def read_file(file):\n",
    "    '''Reads Whatsapp text file into a list of strings''' \n",
    "\n",
    "    x = open(file,'r', encoding = 'utf-8') #Opens the text file into variable x but the variable cannot be explored yet\n",
    "    y = x.read() #By now it becomes a huge chunk of string that we need to separate line by line\n",
    "    content = y.splitlines() #The splitline method converts the chunk of string into a list of strings\n",
    "    return content \n",
    "file=r'D:\\Downloads\\WhatsApp Chat with DAIs.txt'\n",
    "chat = read_file(file) "
   ]
  },
  {
   "cell_type": "code",
   "execution_count": 2,
   "metadata": {
    "tags": []
   },
   "outputs": [
    {
     "output_type": "stream",
     "name": "stdout",
     "text": "length of clean_chat is:\n2266\n"
    }
   ],
   "source": [
    "clean_chat = [line for line in chat if len(line) > 1]\n",
    "print(\"length of clean_chat is:\")\n",
    "print(len(clean_chat)) "
   ]
  },
  {
   "cell_type": "code",
   "execution_count": 3,
   "metadata": {},
   "outputs": [],
   "source": [
    "import re"
   ]
  },
  {
   "cell_type": "code",
   "execution_count": 4,
   "metadata": {},
   "outputs": [
    {
     "output_type": "execute_result",
     "data": {
      "text/plain": "2149"
     },
     "metadata": {},
     "execution_count": 4
    }
   ],
   "source": [
    "#Merge messages that belong together\n",
    "msgs = [] #message container\n",
    "pos = 0 #counter for position of msgs in the container\n",
    "\"\"\"\n",
    "Flow:\n",
    "For every line, see if it matches the expression which is starting with the format \"number(s)+slash\" eg \"12/\"\n",
    "If it does, it is a new line of conversion as they begin with dates, add it to msgs container\n",
    "Else, it is a continuation of the previous line, add it to the previous line and append to msgs, then pop previous line.\n",
    "\"\"\"\n",
    "for line in clean_chat:\n",
    "    if re.findall(\"\\A\\d+[/]\", line):\n",
    "        msgs.append(line)\n",
    "        pos += 1\n",
    "    else:\n",
    "        take = msgs[pos-1] + \". \" + line\n",
    "        msgs.append(take)\n",
    "        msgs.pop(pos-1)\n",
    "len(msgs) \n"
   ]
  },
  {
   "cell_type": "code",
   "execution_count": 5,
   "metadata": {},
   "outputs": [],
   "source": [
    "texts=msgs"
   ]
  },
  {
   "cell_type": "code",
   "execution_count": 6,
   "metadata": {},
   "outputs": [],
   "source": [
    "def countnonoverlappingrematches(pattern, thestring):\n",
    "  return re.subn(pattern, '', thestring)[1]\n",
    "\n",
    "for i in range(len(msgs)):\n",
    "    x=countnonoverlappingrematches('(\\d{1,4}([.\\-/])\\d{1,2}([.\\-/])\\d{1,4})(, [0-9][0-9]?:[0-9][0-9] [A-z][A-z] -)',msgs[i])\n",
    "    if(x!=1):\n",
    "        print(i)"
   ]
  },
  {
   "cell_type": "code",
   "execution_count": 7,
   "metadata": {},
   "outputs": [],
   "source": [
    "msgs=texts"
   ]
  },
  {
   "cell_type": "code",
   "execution_count": 8,
   "metadata": {},
   "outputs": [
    {
     "output_type": "execute_result",
     "data": {
      "text/plain": "2149"
     },
     "metadata": {},
     "execution_count": 8
    }
   ],
   "source": [
    "len(msgs)"
   ]
  },
  {
   "cell_type": "code",
   "execution_count": 9,
   "metadata": {},
   "outputs": [
    {
     "output_type": "execute_result",
     "data": {
      "text/plain": "1"
     },
     "metadata": {},
     "execution_count": 9
    }
   ],
   "source": [
    "countnonoverlappingrematches('(\\d{1,4}([.\\-/])\\d{1,2}([.\\-/])\\d{1,4})(, [0-9][0-9]?:[0-9][0-9] [A-z][A-z] -)',msgs[0])"
   ]
  },
  {
   "cell_type": "code",
   "execution_count": 10,
   "metadata": {},
   "outputs": [
    {
     "output_type": "execute_result",
     "data": {
      "text/plain": "[]"
     },
     "metadata": {},
     "execution_count": 10
    }
   ],
   "source": [
    "msgs[7865:7875]"
   ]
  },
  {
   "cell_type": "code",
   "execution_count": 11,
   "metadata": {
    "tags": []
   },
   "outputs": [
    {
     "output_type": "stream",
     "name": "stdout",
     "text": "length of time is:\n2149\n"
    }
   ],
   "source": [
    "time = [msgs[i].split(',')[1].split('-')[0] for i in range(len(msgs))]\n",
    "time = [s.strip(' ') for s in time] # Remove spacing\n",
    "print(\"length of time is:\")\n",
    "print(len(time))"
   ]
  },
  {
   "cell_type": "code",
   "execution_count": 12,
   "metadata": {},
   "outputs": [
    {
     "output_type": "execute_result",
     "data": {
      "text/plain": "2149"
     },
     "metadata": {},
     "execution_count": 12
    }
   ],
   "source": [
    "date = [msgs[i].split(',')[0] for i in range(len(msgs))]\n",
    "date\n",
    "content = []\n",
    "for i in range(len(msgs)):\n",
    "  try:\n",
    "    content.append(msgs[i].split(':')[2])\n",
    "  except IndexError:\n",
    "    content.append('Missing Text')\n",
    "len(content)\n"
   ]
  },
  {
   "cell_type": "code",
   "execution_count": 13,
   "metadata": {},
   "outputs": [
    {
     "output_type": "execute_result",
     "data": {
      "text/plain": "2149"
     },
     "metadata": {},
     "execution_count": 13
    }
   ],
   "source": [
    "name = [msgs[i].split('-')[1].split(':')[0] for i in range(len(msgs))]\n",
    "len(name) "
   ]
  },
  {
   "cell_type": "code",
   "execution_count": 14,
   "metadata": {},
   "outputs": [
    {
     "output_type": "execute_result",
     "data": {
      "text/plain": "2149"
     },
     "metadata": {},
     "execution_count": 14
    }
   ],
   "source": [
    "content = []\n",
    "for i in range(len(msgs)):\n",
    "  try:\n",
    "    content.append(msgs[i].split(':')[2])\n",
    "  except IndexError:\n",
    "    content.append('Missing Text')\n",
    "len(content)\n",
    "\n"
   ]
  },
  {
   "cell_type": "code",
   "execution_count": 15,
   "metadata": {},
   "outputs": [
    {
     "output_type": "execute_result",
     "data": {
      "text/plain": "2149"
     },
     "metadata": {},
     "execution_count": 15
    }
   ],
   "source": [
    "import pandas as pd\n",
    "df = pd.DataFrame(list(zip(date, time, name, content)), columns = ['Date', 'Time', 'Name', 'Content'])\n",
    "len(df)"
   ]
  },
  {
   "cell_type": "code",
   "execution_count": 16,
   "metadata": {},
   "outputs": [
    {
     "output_type": "execute_result",
     "data": {
      "text/plain": "2149"
     },
     "metadata": {},
     "execution_count": 16
    }
   ],
   "source": [
    "len(df)"
   ]
  },
  {
   "cell_type": "code",
   "execution_count": 17,
   "metadata": {},
   "outputs": [],
   "source": [
    "df = df[df[\"Content\"]!='Missing Text']\n",
    "len(df)\n",
    "df.reset_index(inplace=True, drop=True)\n"
   ]
  },
  {
   "cell_type": "code",
   "execution_count": 31,
   "metadata": {},
   "outputs": [],
   "source": [
    "df['DateTime'] = pd.to_datetime(df['Date'] + ' ' + df['Time'])"
   ]
  },
  {
   "cell_type": "code",
   "execution_count": 19,
   "metadata": {},
   "outputs": [],
   "source": [
    "df['weekday'] = df['DateTime'].apply(lambda x: x.day_name()) "
   ]
  },
  {
   "cell_type": "code",
   "execution_count": 20,
   "metadata": {},
   "outputs": [],
   "source": [
    "df['Letter_Count'] = df['Content'].apply(lambda s : len(s))\n",
    "df['Word_Count'] = df['Content'].apply(lambda s : len(s.split(' ')))\n"
   ]
  },
  {
   "cell_type": "code",
   "execution_count": 21,
   "metadata": {},
   "outputs": [],
   "source": [
    "df['Hour'] = df['DateTime'].apply(lambda x : x.hour) \n",
    "# The first token of a value in the Time Column contains the hour (Eg., \"12\" in \"12:15\")"
   ]
  },
  {
   "cell_type": "code",
   "execution_count": 22,
   "metadata": {},
   "outputs": [],
   "source": [
    "chat_name=file.split('\\\\')[-1].split('.')[0]\n",
    "chat_name\n",
    "df.to_csv(chat_name+\".csv\")"
   ]
  },
  {
   "cell_type": "code",
   "execution_count": 23,
   "metadata": {},
   "outputs": [],
   "source": [
    "text=\" \".join(content)"
   ]
  },
  {
   "cell_type": "code",
   "execution_count": 24,
   "metadata": {},
   "outputs": [],
   "source": [
    "import string\n",
    "exclude = set(string.punctuation)\n",
    "s = ''.join(ch for ch in text if ch not in exclude)"
   ]
  },
  {
   "cell_type": "code",
   "execution_count": 25,
   "metadata": {},
   "outputs": [],
   "source": [
    "new_text=s.replace('Media omitted','')\n",
    "new_text=new_text.replace('thi','')\n",
    "new_text=new_text.replace('Thi','')\n",
    "words_text=re.sub(r'\\b\\w{1,2}\\b', '', new_text)\n",
    "words_text=re.sub(r'Missing Text','',words_text)"
   ]
  },
  {
   "cell_type": "code",
   "execution_count": 26,
   "metadata": {},
   "outputs": [],
   "source": [
    "from wordcloud import WordCloud, STOPWORDS \n",
    "import matplotlib.pyplot as plt \n",
    "import pandas as pd \n",
    "stopwords = set(STOPWORDS) "
   ]
  },
  {
   "cell_type": "code",
   "execution_count": 27,
   "metadata": {},
   "outputs": [],
   "source": [
    "wordcloud = WordCloud(width = 800, height = 800, \n",
    "                background_color ='white', \n",
    "                stopwords = stopwords, \n",
    "                min_font_size = 10).generate(words_text) \n"
   ]
  },
  {
   "cell_type": "code",
   "execution_count": 33,
   "metadata": {},
   "outputs": [
    {
     "output_type": "display_data",
     "data": {
      "text/plain": "<Figure size 1080x1080 with 1 Axes>",
      "image/svg+xml": "<?xml version=\"1.0\" encoding=\"utf-8\" standalone=\"no\"?>\r\n<!DOCTYPE svg PUBLIC \"-//W3C//DTD SVG 1.1//EN\"\r\n  \"http://www.w3.org/Graphics/SVG/1.1/DTD/svg11.dtd\">\r\n<!-- Created with matplotlib (https://matplotlib.org/) -->\r\n<svg height=\"874.4pt\" version=\"1.1\" viewBox=\"0 0 874.4 874.4\" width=\"874.4pt\" xmlns=\"http://www.w3.org/2000/svg\" xmlns:xlink=\"http://www.w3.org/1999/xlink\">\r\n <defs>\r\n  <style type=\"text/css\">\r\n*{stroke-linecap:butt;stroke-linejoin:round;}\r\n  </style>\r\n </defs>\r\n <g id=\"figure_1\">\r\n  <g id=\"patch_1\">\r\n   <path d=\"M 0 874.4 \r\nL 874.4 874.4 \r\nL 874.4 0 \r\nL 0 0 \r\nz\r\n\" style=\"fill:none;\"/>\r\n  </g>\r\n  <g id=\"axes_1\"/>\r\n </g>\r\n</svg>\r\n",
      "image/png": "[encoded data removed]"
     },
     "metadata": {
      "needs_background": "light"
     }
    }
   ],
   "source": [
    "plt.figure(figsize = (15, 15), facecolor = \"none\") \n",
    "plt.imshow(wordcloud) \n",
    "plt.axis(\"off\") \n",
    "plt.tight_layout(pad = 11) "
   ]
  }
 ],
 "metadata": {
  "kernelspec": {
   "display_name": "Python 3",
   "language": "python",
   "name": "python3"
  },
  "language_info": {
   "codemirror_mode": {
    "name": "ipython",
    "version": 3
   },
   "file_extension": ".py",
   "mimetype": "text/x-python",
   "name": "python",
   "nbconvert_exporter": "python",
   "pygments_lexer": "ipython3",
   "version": "3.7.4"
  }
 },
 "nbformat": 4,
 "nbformat_minor": 4
}